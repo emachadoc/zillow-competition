{
 "cells": [
  {
   "cell_type": "markdown",
   "metadata": {},
   "source": [
    "<font color = blue> First of all, we have to import some libraries: </font>\n"
   ]
  },
  {
   "cell_type": "code",
   "execution_count": 1,
   "metadata": {},
   "outputs": [
    {
     "name": "stdout",
     "output_type": "stream",
     "text": [
      "Checking whether there is an H2O instance running at http://localhost:54321 . connected.\n"
     ]
    },
    {
     "data": {
      "text/html": [
       "<div style=\"overflow:auto\"><table style=\"width:50%\"><tr><td>H2O cluster uptime:</td>\n",
       "<td>3 days 1 hour 52 mins</td></tr>\n",
       "<tr><td>H2O cluster timezone:</td>\n",
       "<td>Europe/Madrid</td></tr>\n",
       "<tr><td>H2O data parsing timezone:</td>\n",
       "<td>UTC</td></tr>\n",
       "<tr><td>H2O cluster version:</td>\n",
       "<td>3.26.0.2</td></tr>\n",
       "<tr><td>H2O cluster version age:</td>\n",
       "<td>10 days </td></tr>\n",
       "<tr><td>H2O cluster name:</td>\n",
       "<td>H2O_from_python_emachado_449c9r</td></tr>\n",
       "<tr><td>H2O cluster total nodes:</td>\n",
       "<td>1</td></tr>\n",
       "<tr><td>H2O cluster free memory:</td>\n",
       "<td>6.231 Gb</td></tr>\n",
       "<tr><td>H2O cluster total cores:</td>\n",
       "<td>4</td></tr>\n",
       "<tr><td>H2O cluster allowed cores:</td>\n",
       "<td>4</td></tr>\n",
       "<tr><td>H2O cluster status:</td>\n",
       "<td>locked, healthy</td></tr>\n",
       "<tr><td>H2O connection url:</td>\n",
       "<td>http://localhost:54321</td></tr>\n",
       "<tr><td>H2O connection proxy:</td>\n",
       "<td>None</td></tr>\n",
       "<tr><td>H2O internal security:</td>\n",
       "<td>False</td></tr>\n",
       "<tr><td>H2O API Extensions:</td>\n",
       "<td>Amazon S3, XGBoost, Algos, AutoML, Core V3, Core V4</td></tr>\n",
       "<tr><td>Python version:</td>\n",
       "<td>3.7.3 final</td></tr></table></div>"
      ],
      "text/plain": [
       "--------------------------  ---------------------------------------------------\n",
       "H2O cluster uptime:         3 days 1 hour 52 mins\n",
       "H2O cluster timezone:       Europe/Madrid\n",
       "H2O data parsing timezone:  UTC\n",
       "H2O cluster version:        3.26.0.2\n",
       "H2O cluster version age:    10 days\n",
       "H2O cluster name:           H2O_from_python_emachado_449c9r\n",
       "H2O cluster total nodes:    1\n",
       "H2O cluster free memory:    6.231 Gb\n",
       "H2O cluster total cores:    4\n",
       "H2O cluster allowed cores:  4\n",
       "H2O cluster status:         locked, healthy\n",
       "H2O connection url:         http://localhost:54321\n",
       "H2O connection proxy:\n",
       "H2O internal security:      False\n",
       "H2O API Extensions:         Amazon S3, XGBoost, Algos, AutoML, Core V3, Core V4\n",
       "Python version:             3.7.3 final\n",
       "--------------------------  ---------------------------------------------------"
      ]
     },
     "metadata": {},
     "output_type": "display_data"
    }
   ],
   "source": [
    "import numpy as np\n",
    "import pandas as pd\n",
    "# Load the H2O library and start up the H2O cluter locally on your machine\n",
    "import h2o\n",
    "from h2o.automl import H2OAutoML\n",
    "\n",
    "# Number of threads, nthreads = -1, means use all cores on your machine\n",
    "# max_mem_size is the maximum memory (in GB) to allocate to H2O\n",
    "h2o.init(nthreads = -1, max_mem_size = 8)"
   ]
  },
  {
   "cell_type": "markdown",
   "metadata": {},
   "source": [
    "<font color = blue> Data loading and merging to get the 'logerror' which is our target: </font>"
   ]
  },
  {
   "cell_type": "code",
   "execution_count": 2,
   "metadata": {},
   "outputs": [
    {
     "name": "stderr",
     "output_type": "stream",
     "text": [
      "/Users/emachado/miniconda3/envs/ironhack/lib/python3.7/site-packages/IPython/core/interactiveshell.py:3057: DtypeWarning: Columns (22,32,34,49,55) have mixed types. Specify dtype option on import or set low_memory=False.\n",
      "  interactivity=interactivity, compiler=compiler, result=result)\n"
     ]
    },
    {
     "data": {
      "text/html": [
       "<div>\n",
       "<style scoped>\n",
       "    .dataframe tbody tr th:only-of-type {\n",
       "        vertical-align: middle;\n",
       "    }\n",
       "\n",
       "    .dataframe tbody tr th {\n",
       "        vertical-align: top;\n",
       "    }\n",
       "\n",
       "    .dataframe thead th {\n",
       "        text-align: right;\n",
       "    }\n",
       "</style>\n",
       "<table border=\"1\" class=\"dataframe\">\n",
       "  <thead>\n",
       "    <tr style=\"text-align: right;\">\n",
       "      <th></th>\n",
       "      <th>parcelid</th>\n",
       "      <th>logerror</th>\n",
       "      <th>transactiondate</th>\n",
       "      <th>airconditioningtypeid</th>\n",
       "      <th>architecturalstyletypeid</th>\n",
       "      <th>basementsqft</th>\n",
       "      <th>bathroomcnt</th>\n",
       "      <th>bedroomcnt</th>\n",
       "      <th>buildingclasstypeid</th>\n",
       "      <th>buildingqualitytypeid</th>\n",
       "      <th>...</th>\n",
       "      <th>numberofstories</th>\n",
       "      <th>fireplaceflag</th>\n",
       "      <th>structuretaxvaluedollarcnt</th>\n",
       "      <th>taxvaluedollarcnt</th>\n",
       "      <th>assessmentyear</th>\n",
       "      <th>landtaxvaluedollarcnt</th>\n",
       "      <th>taxamount</th>\n",
       "      <th>taxdelinquencyflag</th>\n",
       "      <th>taxdelinquencyyear</th>\n",
       "      <th>censustractandblock</th>\n",
       "    </tr>\n",
       "  </thead>\n",
       "  <tbody>\n",
       "    <tr>\n",
       "      <th>0</th>\n",
       "      <td>11016594</td>\n",
       "      <td>0.0276</td>\n",
       "      <td>2016-01-01</td>\n",
       "      <td>1.0</td>\n",
       "      <td>NaN</td>\n",
       "      <td>NaN</td>\n",
       "      <td>2.0</td>\n",
       "      <td>3.0</td>\n",
       "      <td>NaN</td>\n",
       "      <td>4.0</td>\n",
       "      <td>...</td>\n",
       "      <td>NaN</td>\n",
       "      <td>NaN</td>\n",
       "      <td>122754.0</td>\n",
       "      <td>360170.0</td>\n",
       "      <td>2015.0</td>\n",
       "      <td>237416.0</td>\n",
       "      <td>6735.88</td>\n",
       "      <td>NaN</td>\n",
       "      <td>NaN</td>\n",
       "      <td>6.037107e+13</td>\n",
       "    </tr>\n",
       "    <tr>\n",
       "      <th>1</th>\n",
       "      <td>14366692</td>\n",
       "      <td>-0.1684</td>\n",
       "      <td>2016-01-01</td>\n",
       "      <td>NaN</td>\n",
       "      <td>NaN</td>\n",
       "      <td>NaN</td>\n",
       "      <td>3.5</td>\n",
       "      <td>4.0</td>\n",
       "      <td>NaN</td>\n",
       "      <td>NaN</td>\n",
       "      <td>...</td>\n",
       "      <td>NaN</td>\n",
       "      <td>NaN</td>\n",
       "      <td>346458.0</td>\n",
       "      <td>585529.0</td>\n",
       "      <td>2015.0</td>\n",
       "      <td>239071.0</td>\n",
       "      <td>10153.02</td>\n",
       "      <td>NaN</td>\n",
       "      <td>NaN</td>\n",
       "      <td>NaN</td>\n",
       "    </tr>\n",
       "    <tr>\n",
       "      <th>2</th>\n",
       "      <td>12098116</td>\n",
       "      <td>-0.0040</td>\n",
       "      <td>2016-01-01</td>\n",
       "      <td>1.0</td>\n",
       "      <td>NaN</td>\n",
       "      <td>NaN</td>\n",
       "      <td>3.0</td>\n",
       "      <td>2.0</td>\n",
       "      <td>NaN</td>\n",
       "      <td>4.0</td>\n",
       "      <td>...</td>\n",
       "      <td>NaN</td>\n",
       "      <td>NaN</td>\n",
       "      <td>61994.0</td>\n",
       "      <td>119906.0</td>\n",
       "      <td>2015.0</td>\n",
       "      <td>57912.0</td>\n",
       "      <td>11484.48</td>\n",
       "      <td>NaN</td>\n",
       "      <td>NaN</td>\n",
       "      <td>6.037464e+13</td>\n",
       "    </tr>\n",
       "    <tr>\n",
       "      <th>3</th>\n",
       "      <td>12643413</td>\n",
       "      <td>0.0218</td>\n",
       "      <td>2016-01-02</td>\n",
       "      <td>1.0</td>\n",
       "      <td>NaN</td>\n",
       "      <td>NaN</td>\n",
       "      <td>2.0</td>\n",
       "      <td>2.0</td>\n",
       "      <td>NaN</td>\n",
       "      <td>4.0</td>\n",
       "      <td>...</td>\n",
       "      <td>NaN</td>\n",
       "      <td>NaN</td>\n",
       "      <td>171518.0</td>\n",
       "      <td>244880.0</td>\n",
       "      <td>2015.0</td>\n",
       "      <td>73362.0</td>\n",
       "      <td>3048.74</td>\n",
       "      <td>NaN</td>\n",
       "      <td>NaN</td>\n",
       "      <td>6.037296e+13</td>\n",
       "    </tr>\n",
       "    <tr>\n",
       "      <th>4</th>\n",
       "      <td>14432541</td>\n",
       "      <td>-0.0050</td>\n",
       "      <td>2016-01-02</td>\n",
       "      <td>NaN</td>\n",
       "      <td>NaN</td>\n",
       "      <td>NaN</td>\n",
       "      <td>2.5</td>\n",
       "      <td>4.0</td>\n",
       "      <td>NaN</td>\n",
       "      <td>NaN</td>\n",
       "      <td>...</td>\n",
       "      <td>2.0</td>\n",
       "      <td>NaN</td>\n",
       "      <td>169574.0</td>\n",
       "      <td>434551.0</td>\n",
       "      <td>2015.0</td>\n",
       "      <td>264977.0</td>\n",
       "      <td>5488.96</td>\n",
       "      <td>NaN</td>\n",
       "      <td>NaN</td>\n",
       "      <td>6.059042e+13</td>\n",
       "    </tr>\n",
       "  </tbody>\n",
       "</table>\n",
       "<p>5 rows × 60 columns</p>\n",
       "</div>"
      ],
      "text/plain": [
       "   parcelid  logerror transactiondate  airconditioningtypeid  \\\n",
       "0  11016594    0.0276      2016-01-01                    1.0   \n",
       "1  14366692   -0.1684      2016-01-01                    NaN   \n",
       "2  12098116   -0.0040      2016-01-01                    1.0   \n",
       "3  12643413    0.0218      2016-01-02                    1.0   \n",
       "4  14432541   -0.0050      2016-01-02                    NaN   \n",
       "\n",
       "   architecturalstyletypeid  basementsqft  bathroomcnt  bedroomcnt  \\\n",
       "0                       NaN           NaN          2.0         3.0   \n",
       "1                       NaN           NaN          3.5         4.0   \n",
       "2                       NaN           NaN          3.0         2.0   \n",
       "3                       NaN           NaN          2.0         2.0   \n",
       "4                       NaN           NaN          2.5         4.0   \n",
       "\n",
       "   buildingclasstypeid  buildingqualitytypeid  ...  numberofstories  \\\n",
       "0                  NaN                    4.0  ...              NaN   \n",
       "1                  NaN                    NaN  ...              NaN   \n",
       "2                  NaN                    4.0  ...              NaN   \n",
       "3                  NaN                    4.0  ...              NaN   \n",
       "4                  NaN                    NaN  ...              2.0   \n",
       "\n",
       "   fireplaceflag  structuretaxvaluedollarcnt  taxvaluedollarcnt  \\\n",
       "0            NaN                    122754.0           360170.0   \n",
       "1            NaN                    346458.0           585529.0   \n",
       "2            NaN                     61994.0           119906.0   \n",
       "3            NaN                    171518.0           244880.0   \n",
       "4            NaN                    169574.0           434551.0   \n",
       "\n",
       "   assessmentyear  landtaxvaluedollarcnt  taxamount  taxdelinquencyflag  \\\n",
       "0          2015.0               237416.0    6735.88                 NaN   \n",
       "1          2015.0               239071.0   10153.02                 NaN   \n",
       "2          2015.0                57912.0   11484.48                 NaN   \n",
       "3          2015.0                73362.0    3048.74                 NaN   \n",
       "4          2015.0               264977.0    5488.96                 NaN   \n",
       "\n",
       "   taxdelinquencyyear  censustractandblock  \n",
       "0                 NaN         6.037107e+13  \n",
       "1                 NaN                  NaN  \n",
       "2                 NaN         6.037464e+13  \n",
       "3                 NaN         6.037296e+13  \n",
       "4                 NaN         6.059042e+13  \n",
       "\n",
       "[5 rows x 60 columns]"
      ]
     },
     "execution_count": 2,
     "metadata": {},
     "output_type": "execute_result"
    }
   ],
   "source": [
    "prop = pd.read_csv('./data/properties_2016.csv')\n",
    "train = pd.read_csv('./data/train_2016_v2.csv')\n",
    "data = pd.merge(train, prop, on='parcelid', how='left')\n",
    "data.head()\n"
   ]
  },
  {
   "cell_type": "code",
   "execution_count": 3,
   "metadata": {},
   "outputs": [],
   "source": [
    "data.to_csv('data.csv')\n"
   ]
  },
  {
   "cell_type": "code",
   "execution_count": 4,
   "metadata": {
    "scrolled": true
   },
   "outputs": [],
   "source": [
    "data = 'data.csv'"
   ]
  },
  {
   "cell_type": "code",
   "execution_count": 5,
   "metadata": {},
   "outputs": [
    {
     "name": "stdout",
     "output_type": "stream",
     "text": [
      "Parse progress: |█████████████████████████████████████████████████████████| 100%\n"
     ]
    }
   ],
   "source": [
    "data = h2o.import_file(data)"
   ]
  },
  {
   "cell_type": "code",
   "execution_count": 6,
   "metadata": {},
   "outputs": [
    {
     "name": "stdout",
     "output_type": "stream",
     "text": [
      "Rows:90275\n",
      "Cols:61\n",
      "\n",
      "\n"
     ]
    },
    {
     "data": {
      "text/html": [
       "<table>\n",
       "<thead>\n",
       "<tr><th>       </th><th>C1                </th><th>parcelid          </th><th>logerror            </th><th>transactiondate    </th><th>airconditioningtypeid  </th><th>architecturalstyletypeid  </th><th>basementsqft     </th><th>bathroomcnt       </th><th>bedroomcnt        </th><th>buildingclasstypeid  </th><th>buildingqualitytypeid  </th><th>calculatedbathnbr  </th><th>decktypeid  </th><th>finishedfloor1squarefeet  </th><th>calculatedfinishedsquarefeet  </th><th>finishedsquarefeet12  </th><th>finishedsquarefeet13  </th><th>finishedsquarefeet15  </th><th>finishedsquarefeet50  </th><th>finishedsquarefeet6  </th><th>fips              </th><th>fireplacecnt       </th><th>fullbathcnt       </th><th>garagecarcnt      </th><th>garagetotalsqft   </th><th>hashottuborspa  </th><th>heatingorsystemtypeid  </th><th>latitude          </th><th>longitude          </th><th>lotsizesquarefeet  </th><th>poolcnt  </th><th>poolsizesum      </th><th>pooltypeid10  </th><th>pooltypeid2  </th><th>pooltypeid7  </th><th>propertycountylandusecode  </th><th>propertylandusetypeid  </th><th>propertyzoningdesc  </th><th>rawcensustractandblock  </th><th>regionidcity     </th><th>regionidcounty    </th><th>regionidneighborhood  </th><th>regionidzip      </th><th>roomcnt           </th><th>storytypeid  </th><th>threequarterbathnbr  </th><th>typeconstructiontypeid  </th><th>unitcnt           </th><th>yardbuildingsqft17  </th><th>yardbuildingsqft26  </th><th>yearbuilt         </th><th>numberofstories   </th><th>fireplaceflag  </th><th>structuretaxvaluedollarcnt  </th><th>taxvaluedollarcnt  </th><th>assessmentyear  </th><th>landtaxvaluedollarcnt  </th><th>taxamount         </th><th>taxdelinquencyflag  </th><th>taxdelinquencyyear  </th><th>censustractandblock  </th></tr>\n",
       "</thead>\n",
       "<tbody>\n",
       "<tr><td>type   </td><td>int               </td><td>int               </td><td>real                </td><td>time               </td><td>int                    </td><td>int                       </td><td>int              </td><td>real              </td><td>int               </td><td>int                  </td><td>int                    </td><td>real               </td><td>int         </td><td>int                       </td><td>int                           </td><td>int                   </td><td>int                   </td><td>int                   </td><td>int                   </td><td>int                  </td><td>int               </td><td>int                </td><td>int               </td><td>int               </td><td>int               </td><td>enum            </td><td>int                    </td><td>int               </td><td>int                </td><td>real               </td><td>int      </td><td>int              </td><td>int           </td><td>int          </td><td>int          </td><td>int                        </td><td>int                    </td><td>enum                </td><td>real                    </td><td>int              </td><td>int               </td><td>int                   </td><td>int              </td><td>int               </td><td>int          </td><td>int                  </td><td>int                     </td><td>int               </td><td>int                 </td><td>int                 </td><td>int               </td><td>int               </td><td>enum           </td><td>int                         </td><td>int                </td><td>int             </td><td>int                    </td><td>real              </td><td>enum                </td><td>int                 </td><td>int                  </td></tr>\n",
       "<tr><td>mins   </td><td>0.0               </td><td>10711738.0        </td><td>-4.605              </td><td>1451606400000.0    </td><td>1.0                    </td><td>2.0                       </td><td>100.0            </td><td>0.0               </td><td>0.0               </td><td>4.0                  </td><td>1.0                    </td><td>1.0                </td><td>66.0        </td><td>44.0                      </td><td>2.0                           </td><td>2.0                   </td><td>1056.0                </td><td>560.0                 </td><td>44.0                  </td><td>257.0                </td><td>6037.0            </td><td>1.0                </td><td>1.0               </td><td>0.0               </td><td>0.0               </td><td>                </td><td>1.0                    </td><td>33339295.0        </td><td>-119447865.0       </td><td>167.0              </td><td>1.0      </td><td>28.0             </td><td>1.0           </td><td>1.0          </td><td>1.0          </td><td>0.0                        </td><td>31.0                   </td><td>                    </td><td>60371011.101001         </td><td>3491.0           </td><td>1286.0            </td><td>6952.0                </td><td>95982.0          </td><td>0.0               </td><td>7.0          </td><td>1.0                  </td><td>4.0                     </td><td>1.0               </td><td>25.0                </td><td>18.0                </td><td>1885.0            </td><td>1.0               </td><td>               </td><td>100.0                       </td><td>22.0               </td><td>2015.0          </td><td>22.0                   </td><td>49.08             </td><td>                    </td><td>6.0                 </td><td>60371011101001.0     </td></tr>\n",
       "<tr><td>mean   </td><td>45137.0           </td><td>12984656.108712263</td><td>0.011457219606757132</td><td>1465669839260.0396 </td><td>1.8163719120252944     </td><td>7.2298850574712645        </td><td>713.5813953488372</td><td>2.2794738299639996</td><td>3.0318692882857934</td><td>4.0                  </td><td>5.565406875392233      </td><td>2.309216212272568  </td><td>66.0        </td><td>1347.9740373395566        </td><td>1773.1859865646002            </td><td>1745.4545305855427    </td><td>1404.5454545454545    </td><td>2380.0900673400674    </td><td>1355.5466744457412    </td><td>2302.546318289786    </td><td>6048.870551093877 </td><td>1.1878838347038618 </td><td>2.241231073148283 </td><td>1.8120052109429803</td><td>345.5212279119484 </td><td>                </td><td>3.9269793152639094     </td><td>34005410.693691485</td><td>-118198868.30685121</td><td>29110.164176624032 </td><td>1.0      </td><td>519.8276573787409</td><td>1.0           </td><td>1.0          </td><td>1.0          </td><td>202.69972340282004         </td><td>261.83217945167564     </td><td>                    </td><td>60491794.811503045      </td><td>33761.33285107155</td><td>2525.4207698698433</td><td>190646.54023658775    </td><td>96586.13118351072</td><td>1.4785156466352811</td><td>7.0          </td><td>1.008743442418187    </td><td>6.010033444816053       </td><td>1.1104142032114879</td><td>310.1421012849584   </td><td>311.69473684210527  </td><td>1968.5328701169578</td><td>1.4407389402041815</td><td>               </td><td>180093.3937482616           </td><td>457672.6273567138  </td><td>2015.0          </td><td>278335.3250216006      </td><td>5983.9759267301115</td><td>                    </td><td>13.402692091979809  </td><td>60491508546032.67    </td></tr>\n",
       "<tr><td>maxs   </td><td>90274.0           </td><td>162960842.0       </td><td>4.737               </td><td>1483056000000.0    </td><td>13.0                   </td><td>21.0                      </td><td>1555.0           </td><td>20.0              </td><td>16.0              </td><td>4.0                  </td><td>12.0                   </td><td>20.0               </td><td>66.0        </td><td>7625.0                    </td><td>22741.0                       </td><td>20013.0               </td><td>1584.0                </td><td>22741.0               </td><td>8352.0                </td><td>7224.0               </td><td>6111.0            </td><td>5.0                </td><td>20.0              </td><td>24.0              </td><td>7339.0            </td><td>                </td><td>24.0                   </td><td>34816009.0        </td><td>-117554924.0       </td><td>6971010.0          </td><td>1.0      </td><td>1750.0           </td><td>1.0           </td><td>1.0          </td><td>1.0          </td><td>8800.0                     </td><td>275.0                  </td><td>                    </td><td>61110091.00101999       </td><td>396556.0         </td><td>3101.0            </td><td>764167.0              </td><td>399675.0         </td><td>18.0              </td><td>7.0          </td><td>4.0                  </td><td>13.0                    </td><td>143.0             </td><td>2678.0              </td><td>1366.0              </td><td>2015.0            </td><td>4.0               </td><td>               </td><td>9948100.0                   </td><td>27750000.0         </td><td>2015.0          </td><td>24500000.0             </td><td>321936.09         </td><td>                    </td><td>99.0                </td><td>61110091001020.0     </td></tr>\n",
       "<tr><td>sigma  </td><td>26060.292112714316</td><td>2504510.48830177  </td><td>0.1610788353671866  </td><td>7410679638.770435  </td><td>2.974167945353214      </td><td>2.7161956543833963        </td><td>437.4341981839826</td><td>1.0042709877071896</td><td>1.1564355198675522</td><td>0.0                  </td><td>1.9006016285969713     </td><td>0.9761724992343213 </td><td>0.0         </td><td>652.3990255999324         </td><td>928.162392720824              </td><td>909.9411657489277     </td><td>110.10821123702891    </td><td>1068.2071815335598    </td><td>673.7034879321604     </td><td>1346.2552421499329   </td><td>20.663460805186304</td><td>0.48417274152432316</td><td>0.9631416217273224</td><td>0.6087605728316425</td><td>267.01591805179055</td><td>                </td><td>3.6843820505313793     </td><td>264965.37555690145</td><td>360603.1997035552  </td><td>121721.30865440048 </td><td>0.0      </td><td>155.0542101242478</td><td>0.0           </td><td>0.0          </td><td>0.0          </td><td>307.47152682954294         </td><td>5.182900523458313      </td><td>                    </td><td>205054.8672682629       </td><td>46672.3938629122 </td><td>805.6948419923107 </td><td>166228.91057181926    </td><td>3661.339093751154</td><td>2.8196270435222055</td><td>0.0          </td><td>0.10083013967788877  </td><td>0.4372346737754409      </td><td>0.7972352624935549</td><td>216.7218688952167   </td><td>346.3548504335012   </td><td>23.76347471454321 </td><td>0.5444981475501466</td><td>               </td><td>209129.88816860018          </td><td>554884.3989425417  </td><td>0.0             </td><td>400495.46489261574     </td><td>6838.87695629231  </td><td>                    </td><td>2.7159655039015123  </td><td>204660503527.1381    </td></tr>\n",
       "<tr><td>zeros  </td><td>1                 </td><td>0                 </td><td>847                 </td><td>0                  </td><td>0                      </td><td>0                         </td><td>0                </td><td>1165              </td><td>1421              </td><td>0                    </td><td>0                      </td><td>0                  </td><td>0           </td><td>0                         </td><td>0                             </td><td>0                     </td><td>0                     </td><td>0                     </td><td>0                     </td><td>0                    </td><td>0                 </td><td>0                  </td><td>0                 </td><td>290               </td><td>9209              </td><td>                </td><td>0                      </td><td>0                 </td><td>0                  </td><td>0                  </td><td>0        </td><td>0                </td><td>0             </td><td>0            </td><td>0            </td><td>1                          </td><td>0                      </td><td>                    </td><td>0                       </td><td>0                </td><td>0                 </td><td>0                     </td><td>0                </td><td>69700             </td><td>0            </td><td>0                    </td><td>0                       </td><td>0                 </td><td>0                   </td><td>0                   </td><td>0                 </td><td>0                 </td><td>               </td><td>0                           </td><td>0                  </td><td>0               </td><td>0                      </td><td>0                 </td><td>                    </td><td>0                   </td><td>0                    </td></tr>\n",
       "<tr><td>missing</td><td>0                 </td><td>0                 </td><td>0                   </td><td>0                  </td><td>61494                  </td><td>90014                     </td><td>90232            </td><td>0                 </td><td>0                 </td><td>90259                </td><td>32911                  </td><td>1182               </td><td>89617       </td><td>83419                     </td><td>661                           </td><td>4679                  </td><td>90242                 </td><td>86711                 </td><td>83419                 </td><td>89854                </td><td>0                 </td><td>80668              </td><td>1182              </td><td>60338             </td><td>60338             </td><td>87910           </td><td>34195                  </td><td>0                 </td><td>0                  </td><td>10150              </td><td>72374    </td><td>89306            </td><td>89114         </td><td>89071        </td><td>73578        </td><td>16160                      </td><td>0                      </td><td>31962               </td><td>0                       </td><td>1803             </td><td>0                 </td><td>54263                 </td><td>35               </td><td>0                 </td><td>90232        </td><td>78266                </td><td>89976                   </td><td>31922             </td><td>87629               </td><td>90180               </td><td>756               </td><td>69705             </td><td>90053          </td><td>380                         </td><td>1                  </td><td>0               </td><td>1                      </td><td>6                 </td><td>88492               </td><td>88492               </td><td>605                  </td></tr>\n",
       "<tr><td>0      </td><td>0.0               </td><td>11016594.0        </td><td>0.0276              </td><td>2016-01-01 00:00:00</td><td>1.0                    </td><td>nan                       </td><td>nan              </td><td>2.0               </td><td>3.0               </td><td>nan                  </td><td>4.0                    </td><td>2.0                </td><td>nan         </td><td>nan                       </td><td>1684.0                        </td><td>1684.0                </td><td>nan                   </td><td>nan                   </td><td>nan                   </td><td>nan                  </td><td>6037.0            </td><td>nan                </td><td>2.0               </td><td>nan               </td><td>nan               </td><td>                </td><td>2.0                    </td><td>34280990.0        </td><td>-118488536.0       </td><td>7528.0             </td><td>nan      </td><td>nan              </td><td>nan           </td><td>nan          </td><td>nan          </td><td>100.0                      </td><td>261.0                  </td><td>LARS                </td><td>60371066.461001         </td><td>12447.0          </td><td>3101.0            </td><td>31817.0               </td><td>96370.0          </td><td>0.0               </td><td>nan          </td><td>nan                  </td><td>nan                     </td><td>1.0               </td><td>nan                 </td><td>nan                 </td><td>1959.0            </td><td>nan               </td><td>               </td><td>122754.0                    </td><td>360170.0           </td><td>2015.0          </td><td>237416.0               </td><td>6735.88           </td><td>                    </td><td>nan                 </td><td>60371066461001.0     </td></tr>\n",
       "<tr><td>1      </td><td>1.0               </td><td>14366692.0        </td><td>-0.1684             </td><td>2016-01-01 00:00:00</td><td>nan                    </td><td>nan                       </td><td>nan              </td><td>3.5               </td><td>4.0               </td><td>nan                  </td><td>nan                    </td><td>3.5                </td><td>nan         </td><td>nan                       </td><td>2263.0                        </td><td>2263.0                </td><td>nan                   </td><td>nan                   </td><td>nan                   </td><td>nan                  </td><td>6059.0            </td><td>nan                </td><td>3.0               </td><td>2.0               </td><td>468.0             </td><td>                </td><td>nan                    </td><td>33668120.0        </td><td>-117677556.0       </td><td>3643.0             </td><td>nan      </td><td>nan              </td><td>nan           </td><td>nan          </td><td>nan          </td><td>1.0                        </td><td>261.0                  </td><td>                    </td><td>60590524.222024         </td><td>32380.0          </td><td>1286.0            </td><td>nan                   </td><td>96962.0          </td><td>0.0               </td><td>nan          </td><td>1.0                  </td><td>nan                     </td><td>nan               </td><td>nan                 </td><td>nan                 </td><td>2014.0            </td><td>nan               </td><td>               </td><td>346458.0                    </td><td>585529.0           </td><td>2015.0          </td><td>239071.0               </td><td>10153.02          </td><td>                    </td><td>nan                 </td><td>nan                  </td></tr>\n",
       "<tr><td>2      </td><td>2.0               </td><td>12098116.0        </td><td>-0.004              </td><td>2016-01-01 00:00:00</td><td>1.0                    </td><td>nan                       </td><td>nan              </td><td>3.0               </td><td>2.0               </td><td>nan                  </td><td>4.0                    </td><td>3.0                </td><td>nan         </td><td>nan                       </td><td>2217.0                        </td><td>2217.0                </td><td>nan                   </td><td>nan                   </td><td>nan                   </td><td>nan                  </td><td>6037.0            </td><td>nan                </td><td>3.0               </td><td>nan               </td><td>nan               </td><td>                </td><td>2.0                    </td><td>34136312.0        </td><td>-118175032.0       </td><td>11423.0            </td><td>nan      </td><td>nan              </td><td>nan           </td><td>nan          </td><td>nan          </td><td>100.0                      </td><td>261.0                  </td><td>PSR6                </td><td>60374638.00300401       </td><td>47019.0          </td><td>3101.0            </td><td>275411.0              </td><td>96293.0          </td><td>0.0               </td><td>nan          </td><td>nan                  </td><td>nan                     </td><td>1.0               </td><td>nan                 </td><td>nan                 </td><td>1940.0            </td><td>nan               </td><td>               </td><td>61994.0                     </td><td>119906.0           </td><td>2015.0          </td><td>57912.0                </td><td>11484.48          </td><td>                    </td><td>nan                 </td><td>60374638003004.0     </td></tr>\n",
       "<tr><td>3      </td><td>3.0               </td><td>12643413.0        </td><td>0.0218              </td><td>2016-01-02 00:00:00</td><td>1.0                    </td><td>nan                       </td><td>nan              </td><td>2.0               </td><td>2.0               </td><td>nan                  </td><td>4.0                    </td><td>2.0                </td><td>nan         </td><td>nan                       </td><td>839.0                         </td><td>839.0                 </td><td>nan                   </td><td>nan                   </td><td>nan                   </td><td>nan                  </td><td>6037.0            </td><td>nan                </td><td>2.0               </td><td>nan               </td><td>nan               </td><td>                </td><td>2.0                    </td><td>33755800.0        </td><td>-118309000.0       </td><td>70859.0            </td><td>nan      </td><td>nan              </td><td>nan           </td><td>nan          </td><td>nan          </td><td>nan                        </td><td>266.0                  </td><td>LAR3                </td><td>60372963.002002         </td><td>12447.0          </td><td>3101.0            </td><td>54300.0               </td><td>96222.0          </td><td>0.0               </td><td>nan          </td><td>nan                  </td><td>nan                     </td><td>1.0               </td><td>nan                 </td><td>nan                 </td><td>1987.0            </td><td>nan               </td><td>               </td><td>171518.0                    </td><td>244880.0           </td><td>2015.0          </td><td>73362.0                </td><td>3048.74           </td><td>                    </td><td>nan                 </td><td>60372963002002.0     </td></tr>\n",
       "<tr><td>4      </td><td>4.0               </td><td>14432541.0        </td><td>-0.005              </td><td>2016-01-02 00:00:00</td><td>nan                    </td><td>nan                       </td><td>nan              </td><td>2.5               </td><td>4.0               </td><td>nan                  </td><td>nan                    </td><td>2.5                </td><td>nan         </td><td>nan                       </td><td>2283.0                        </td><td>2283.0                </td><td>nan                   </td><td>nan                   </td><td>nan                   </td><td>nan                  </td><td>6059.0            </td><td>nan                </td><td>2.0               </td><td>2.0               </td><td>598.0             </td><td>                </td><td>nan                    </td><td>33485643.0        </td><td>-117700234.0       </td><td>6000.0             </td><td>1.0      </td><td>nan              </td><td>nan           </td><td>nan          </td><td>1.0          </td><td>122.0                      </td><td>261.0                  </td><td>                    </td><td>60590423.381006         </td><td>17686.0          </td><td>1286.0            </td><td>nan                   </td><td>96961.0          </td><td>8.0               </td><td>nan          </td><td>1.0                  </td><td>nan                     </td><td>nan               </td><td>nan                 </td><td>nan                 </td><td>1981.0            </td><td>2.0               </td><td>               </td><td>169574.0                    </td><td>434551.0           </td><td>2015.0          </td><td>264977.0               </td><td>5488.96           </td><td>                    </td><td>nan                 </td><td>60590423381006.0     </td></tr>\n",
       "<tr><td>5      </td><td>5.0               </td><td>11509835.0        </td><td>-0.2705             </td><td>2016-01-02 00:00:00</td><td>1.0                    </td><td>nan                       </td><td>nan              </td><td>4.0               </td><td>4.0               </td><td>nan                  </td><td>1.0                    </td><td>4.0                </td><td>nan         </td><td>nan                       </td><td>3067.0                        </td><td>3067.0                </td><td>nan                   </td><td>nan                   </td><td>nan                   </td><td>nan                  </td><td>6037.0            </td><td>nan                </td><td>4.0               </td><td>nan               </td><td>nan               </td><td>                </td><td>2.0                    </td><td>33870089.0        </td><td>-118402768.0       </td><td>2708.0             </td><td>nan      </td><td>nan              </td><td>nan           </td><td>nan          </td><td>nan          </td><td>100.0                      </td><td>261.0                  </td><td>HBR3YY              </td><td>60376210.044006005      </td><td>29712.0          </td><td>3101.0            </td><td>nan                   </td><td>96109.0          </td><td>0.0               </td><td>nan          </td><td>nan                  </td><td>nan                     </td><td>1.0               </td><td>nan                 </td><td>nan                 </td><td>1982.0            </td><td>nan               </td><td>               </td><td>880650.0                    </td><td>2447951.0          </td><td>2015.0          </td><td>1567301.0              </td><td>27126.57          </td><td>                    </td><td>nan                 </td><td>60376210044006.0     </td></tr>\n",
       "<tr><td>6      </td><td>6.0               </td><td>12286022.0        </td><td>0.044               </td><td>2016-01-02 00:00:00</td><td>nan                    </td><td>nan                       </td><td>nan              </td><td>1.0               </td><td>2.0               </td><td>nan                  </td><td>7.0                    </td><td>1.0                </td><td>nan         </td><td>nan                       </td><td>1297.0                        </td><td>1297.0                </td><td>nan                   </td><td>nan                   </td><td>nan                   </td><td>nan                  </td><td>6037.0            </td><td>nan                </td><td>1.0               </td><td>nan               </td><td>nan               </td><td>                </td><td>7.0                    </td><td>33899475.0        </td><td>-118212720.0       </td><td>6677.0             </td><td>nan      </td><td>nan              </td><td>nan           </td><td>nan          </td><td>nan          </td><td>100.0                      </td><td>261.0                  </td><td>CORH*               </td><td>60375416.05300699       </td><td>24174.0          </td><td>3101.0            </td><td>nan                   </td><td>96091.0          </td><td>0.0               </td><td>nan          </td><td>nan                  </td><td>nan                     </td><td>1.0               </td><td>nan                 </td><td>nan                 </td><td>1939.0            </td><td>nan               </td><td>               </td><td>64549.0                     </td><td>111521.0           </td><td>2015.0          </td><td>46972.0                </td><td>2304.97           </td><td>                    </td><td>nan                 </td><td>60375416053007.0     </td></tr>\n",
       "<tr><td>7      </td><td>7.0               </td><td>17177301.0        </td><td>0.1638              </td><td>2016-01-02 00:00:00</td><td>nan                    </td><td>nan                       </td><td>nan              </td><td>2.5               </td><td>3.0               </td><td>nan                  </td><td>nan                    </td><td>2.5                </td><td>nan         </td><td>853.0                     </td><td>1763.0                        </td><td>1763.0                </td><td>nan                   </td><td>nan                   </td><td>853.0                 </td><td>nan                  </td><td>6111.0            </td><td>1.0                </td><td>2.0               </td><td>2.0               </td><td>0.0               </td><td>                </td><td>nan                    </td><td>34207204.0        </td><td>-119165589.0       </td><td>nan                </td><td>nan      </td><td>nan              </td><td>nan           </td><td>nan          </td><td>nan          </td><td>1129.0                     </td><td>266.0                  </td><td>                    </td><td>61110031.002073         </td><td>13150.0          </td><td>2061.0            </td><td>nan                   </td><td>97101.0          </td><td>6.0               </td><td>nan          </td><td>1.0                  </td><td>nan                     </td><td>nan               </td><td>nan                 </td><td>nan                 </td><td>1994.0            </td><td>2.0               </td><td>               </td><td>107000.0                    </td><td>306000.0           </td><td>2015.0          </td><td>199000.0               </td><td>3745.5            </td><td>                    </td><td>nan                 </td><td>61110031002073.0     </td></tr>\n",
       "<tr><td>8      </td><td>8.0               </td><td>14739064.0        </td><td>-0.003              </td><td>2016-01-02 00:00:00</td><td>nan                    </td><td>nan                       </td><td>nan              </td><td>1.0               </td><td>2.0               </td><td>nan                  </td><td>nan                    </td><td>1.0                </td><td>nan         </td><td>nan                       </td><td>796.0                         </td><td>796.0                 </td><td>nan                   </td><td>nan                   </td><td>nan                   </td><td>nan                  </td><td>6059.0            </td><td>nan                </td><td>1.0               </td><td>1.0               </td><td>0.0               </td><td>                </td><td>nan                    </td><td>33549600.0        </td><td>-117678000.0       </td><td>nan                </td><td>nan      </td><td>nan              </td><td>nan           </td><td>nan          </td><td>nan          </td><td>34.0                       </td><td>266.0                  </td><td>                    </td><td>60590423.15101899       </td><td>25459.0          </td><td>1286.0            </td><td>nan                   </td><td>96987.0          </td><td>0.0               </td><td>nan          </td><td>nan                  </td><td>nan                     </td><td>nan               </td><td>nan                 </td><td>nan                 </td><td>1984.0            </td><td>nan               </td><td>               </td><td>66834.0                     </td><td>210064.0           </td><td>2015.0          </td><td>143230.0               </td><td>2172.88           </td><td>                    </td><td>nan                 </td><td>60590423151018.0     </td></tr>\n",
       "<tr><td>9      </td><td>9.0               </td><td>14677559.0        </td><td>0.0843              </td><td>2016-01-03 00:00:00</td><td>nan                    </td><td>nan                       </td><td>nan              </td><td>2.0               </td><td>2.0               </td><td>nan                  </td><td>nan                    </td><td>2.0                </td><td>nan         </td><td>nan                       </td><td>1260.0                        </td><td>1260.0                </td><td>nan                   </td><td>nan                   </td><td>nan                   </td><td>nan                  </td><td>6059.0            </td><td>nan                </td><td>2.0               </td><td>1.0               </td><td>0.0               </td><td>                </td><td>nan                    </td><td>33612700.0        </td><td>-117742000.0       </td><td>nan                </td><td>nan      </td><td>nan              </td><td>nan           </td><td>nan          </td><td>nan          </td><td>34.0                       </td><td>266.0                  </td><td>                    </td><td>60590626.483005         </td><td>46098.0          </td><td>1286.0            </td><td>nan                   </td><td>96963.0          </td><td>5.0               </td><td>nan          </td><td>nan                  </td><td>nan                     </td><td>nan               </td><td>nan                 </td><td>nan                 </td><td>1977.0            </td><td>1.0               </td><td>               </td><td>109977.0                    </td><td>190960.0           </td><td>2015.0          </td><td>80983.0                </td><td>1940.26           </td><td>                    </td><td>nan                 </td><td>60590626483015.0     </td></tr>\n",
       "</tbody>\n",
       "</table>"
      ]
     },
     "metadata": {},
     "output_type": "display_data"
    }
   ],
   "source": [
    "data.describe()"
   ]
  },
  {
   "cell_type": "code",
   "execution_count": 7,
   "metadata": {},
   "outputs": [
    {
     "data": {
      "text/plain": [
       "(90275, 61)"
      ]
     },
     "execution_count": 7,
     "metadata": {},
     "output_type": "execute_result"
    }
   ],
   "source": [
    "data.shape"
   ]
  },
  {
   "cell_type": "code",
   "execution_count": 8,
   "metadata": {},
   "outputs": [],
   "source": [
    "y = 'logerror'"
   ]
  },
  {
   "cell_type": "code",
   "execution_count": 9,
   "metadata": {},
   "outputs": [],
   "source": [
    "splits = data.split_frame(ratios=[0.7, 0.15], seed=1)  \n",
    "\n",
    "train = splits[0]\n",
    "valid = splits[1]\n",
    "test = splits[2]"
   ]
  },
  {
   "cell_type": "code",
   "execution_count": 10,
   "metadata": {},
   "outputs": [
    {
     "name": "stdout",
     "output_type": "stream",
     "text": [
      "63207\n",
      "13496\n",
      "13572\n"
     ]
    }
   ],
   "source": [
    "print(train.nrow)\n",
    "print(valid.nrow)\n",
    "print(test.nrow)"
   ]
  },
  {
   "cell_type": "code",
   "execution_count": 20,
   "metadata": {},
   "outputs": [
    {
     "name": "stdout",
     "output_type": "stream",
     "text": [
      "AutoML progress: |████████████████████████████████████████████████████████| 100%\n"
     ]
    }
   ],
   "source": [
    "aml1 = H2OAutoML(seed = 1, project_name = \"zillow_prize\")\n",
    "aml1.train(y = y, training_frame = train, leaderboard_frame = test)"
   ]
  },
  {
   "cell_type": "code",
   "execution_count": 21,
   "metadata": {},
   "outputs": [
    {
     "data": {
      "text/html": [
       "<table>\n",
       "<thead>\n",
       "<tr><th>model_id                                           </th><th style=\"text-align: right;\">  mean_residual_deviance</th><th style=\"text-align: right;\">    rmse</th><th style=\"text-align: right;\">      mse</th><th style=\"text-align: right;\">      mae</th><th style=\"text-align: right;\">  rmsle</th></tr>\n",
       "</thead>\n",
       "<tbody>\n",
       "<tr><td>StackedEnsemble_AllModels_AutoML_20190803_164221   </td><td style=\"text-align: right;\">               0.0273481</td><td style=\"text-align: right;\">0.165373</td><td style=\"text-align: right;\">0.0273481</td><td style=\"text-align: right;\">0.0684925</td><td style=\"text-align: right;\">    nan</td></tr>\n",
       "<tr><td>StackedEnsemble_BestOfFamily_AutoML_20190803_164221</td><td style=\"text-align: right;\">               0.0273787</td><td style=\"text-align: right;\">0.165465</td><td style=\"text-align: right;\">0.0273787</td><td style=\"text-align: right;\">0.0684103</td><td style=\"text-align: right;\">    nan</td></tr>\n",
       "<tr><td>XRT_1_AutoML_20190803_164221                       </td><td style=\"text-align: right;\">               0.0274068</td><td style=\"text-align: right;\">0.16555 </td><td style=\"text-align: right;\">0.0274068</td><td style=\"text-align: right;\">0.0697122</td><td style=\"text-align: right;\">    nan</td></tr>\n",
       "<tr><td>XRT_1_AutoML_20190806_233448                       </td><td style=\"text-align: right;\">               0.0274068</td><td style=\"text-align: right;\">0.16555 </td><td style=\"text-align: right;\">0.0274068</td><td style=\"text-align: right;\">0.0697122</td><td style=\"text-align: right;\">    nan</td></tr>\n",
       "<tr><td>XRT_1_AutoML_20190806_231931                       </td><td style=\"text-align: right;\">               0.0274092</td><td style=\"text-align: right;\">0.165557</td><td style=\"text-align: right;\">0.0274092</td><td style=\"text-align: right;\">0.0697447</td><td style=\"text-align: right;\">    nan</td></tr>\n",
       "<tr><td>GBM_grid_1_AutoML_20190806_231931_model_5          </td><td style=\"text-align: right;\">               0.0274462</td><td style=\"text-align: right;\">0.165669</td><td style=\"text-align: right;\">0.0274462</td><td style=\"text-align: right;\">0.0686457</td><td style=\"text-align: right;\">    nan</td></tr>\n",
       "<tr><td>GBM_grid_1_AutoML_20190806_233448_model_5          </td><td style=\"text-align: right;\">               0.0274462</td><td style=\"text-align: right;\">0.165669</td><td style=\"text-align: right;\">0.0274462</td><td style=\"text-align: right;\">0.0686457</td><td style=\"text-align: right;\">    nan</td></tr>\n",
       "<tr><td>XGBoost_1_AutoML_20190806_155834                   </td><td style=\"text-align: right;\">               0.0274477</td><td style=\"text-align: right;\">0.165673</td><td style=\"text-align: right;\">0.0274477</td><td style=\"text-align: right;\">0.068915 </td><td style=\"text-align: right;\">    nan</td></tr>\n",
       "<tr><td>XGBoost_1_AutoML_20190806_233448                   </td><td style=\"text-align: right;\">               0.0274477</td><td style=\"text-align: right;\">0.165673</td><td style=\"text-align: right;\">0.0274477</td><td style=\"text-align: right;\">0.068915 </td><td style=\"text-align: right;\">    nan</td></tr>\n",
       "<tr><td>XGBoost_1_AutoML_20190806_231931                   </td><td style=\"text-align: right;\">               0.0274477</td><td style=\"text-align: right;\">0.165673</td><td style=\"text-align: right;\">0.0274477</td><td style=\"text-align: right;\">0.068915 </td><td style=\"text-align: right;\">    nan</td></tr>\n",
       "</tbody>\n",
       "</table>"
      ]
     },
     "metadata": {},
     "output_type": "display_data"
    },
    {
     "data": {
      "text/plain": []
     },
     "execution_count": 21,
     "metadata": {},
     "output_type": "execute_result"
    }
   ],
   "source": [
    "aml1.leaderboard.head()"
   ]
  },
  {
   "cell_type": "code",
   "execution_count": 22,
   "metadata": {},
   "outputs": [
    {
     "name": "stdout",
     "output_type": "stream",
     "text": [
      "AutoML progress: |███ (cancelled)\n"
     ]
    },
    {
     "ename": "H2OJobCancelled",
     "evalue": "Job<$03017f00000132d4ffffffff$_b6fe665b4cf7ff0ef3ffa71baa294925> was cancelled by the user.",
     "output_type": "error",
     "traceback": [
      "\u001b[0;31m---------------------------------------------------------------------------\u001b[0m",
      "\u001b[0;31mH2OJobCancelled\u001b[0m                           Traceback (most recent call last)",
      "\u001b[0;32m<ipython-input-22-ff31201985a6>\u001b[0m in \u001b[0;36m<module>\u001b[0;34m\u001b[0m\n\u001b[1;32m      1\u001b[0m \u001b[0maml2\u001b[0m \u001b[0;34m=\u001b[0m \u001b[0mH2OAutoML\u001b[0m\u001b[0;34m(\u001b[0m\u001b[0mseed\u001b[0m \u001b[0;34m=\u001b[0m \u001b[0;36m1\u001b[0m\u001b[0;34m,\u001b[0m \u001b[0mproject_name\u001b[0m \u001b[0;34m=\u001b[0m \u001b[0;34m\"zillow_prize_2\"\u001b[0m\u001b[0;34m)\u001b[0m\u001b[0;34m\u001b[0m\u001b[0;34m\u001b[0m\u001b[0m\n\u001b[0;32m----> 2\u001b[0;31m \u001b[0maml2\u001b[0m\u001b[0;34m.\u001b[0m\u001b[0mtrain\u001b[0m\u001b[0;34m(\u001b[0m\u001b[0my\u001b[0m \u001b[0;34m=\u001b[0m \u001b[0my\u001b[0m\u001b[0;34m,\u001b[0m \u001b[0mtraining_frame\u001b[0m \u001b[0;34m=\u001b[0m \u001b[0mdata\u001b[0m\u001b[0;34m)\u001b[0m\u001b[0;34m\u001b[0m\u001b[0;34m\u001b[0m\u001b[0m\n\u001b[0m",
      "\u001b[0;32m~/miniconda3/envs/ironhack/lib/python3.7/site-packages/h2o/automl/autoh2o.py\u001b[0m in \u001b[0;36mtrain\u001b[0;34m(self, x, y, training_frame, fold_column, weights_column, validation_frame, leaderboard_frame, blending_frame)\u001b[0m\n\u001b[1;32m    443\u001b[0m         \u001b[0mpoll_updates\u001b[0m \u001b[0;34m=\u001b[0m \u001b[0mft\u001b[0m\u001b[0;34m.\u001b[0m\u001b[0mpartial\u001b[0m\u001b[0;34m(\u001b[0m\u001b[0mself\u001b[0m\u001b[0;34m.\u001b[0m\u001b[0m_poll_training_updates\u001b[0m\u001b[0;34m,\u001b[0m \u001b[0mverbosity\u001b[0m\u001b[0;34m=\u001b[0m\u001b[0mself\u001b[0m\u001b[0;34m.\u001b[0m\u001b[0m_verbosity\u001b[0m\u001b[0;34m,\u001b[0m \u001b[0mstate\u001b[0m\u001b[0;34m=\u001b[0m\u001b[0;34m{\u001b[0m\u001b[0;34m}\u001b[0m\u001b[0;34m)\u001b[0m\u001b[0;34m\u001b[0m\u001b[0;34m\u001b[0m\u001b[0m\n\u001b[1;32m    444\u001b[0m         \u001b[0;32mtry\u001b[0m\u001b[0;34m:\u001b[0m\u001b[0;34m\u001b[0m\u001b[0;34m\u001b[0m\u001b[0m\n\u001b[0;32m--> 445\u001b[0;31m             \u001b[0mself\u001b[0m\u001b[0;34m.\u001b[0m\u001b[0m_job\u001b[0m\u001b[0;34m.\u001b[0m\u001b[0mpoll\u001b[0m\u001b[0;34m(\u001b[0m\u001b[0mpoll_updates\u001b[0m\u001b[0;34m=\u001b[0m\u001b[0mpoll_updates\u001b[0m\u001b[0;34m)\u001b[0m\u001b[0;34m\u001b[0m\u001b[0;34m\u001b[0m\u001b[0m\n\u001b[0m\u001b[1;32m    446\u001b[0m         \u001b[0;32mfinally\u001b[0m\u001b[0;34m:\u001b[0m\u001b[0;34m\u001b[0m\u001b[0;34m\u001b[0m\u001b[0m\n\u001b[1;32m    447\u001b[0m             \u001b[0mpoll_updates\u001b[0m\u001b[0;34m(\u001b[0m\u001b[0mself\u001b[0m\u001b[0;34m.\u001b[0m\u001b[0m_job\u001b[0m\u001b[0;34m,\u001b[0m \u001b[0;36m1\u001b[0m\u001b[0;34m)\u001b[0m\u001b[0;34m\u001b[0m\u001b[0;34m\u001b[0m\u001b[0m\n",
      "\u001b[0;32m~/miniconda3/envs/ironhack/lib/python3.7/site-packages/h2o/job.py\u001b[0m in \u001b[0;36mpoll\u001b[0;34m(self, poll_updates)\u001b[0m\n\u001b[1;32m     72\u001b[0m         \u001b[0;31m# check if failed... and politely print relevant message\u001b[0m\u001b[0;34m\u001b[0m\u001b[0;34m\u001b[0m\u001b[0;34m\u001b[0m\u001b[0m\n\u001b[1;32m     73\u001b[0m         \u001b[0;32mif\u001b[0m \u001b[0mself\u001b[0m\u001b[0;34m.\u001b[0m\u001b[0mstatus\u001b[0m \u001b[0;34m==\u001b[0m \u001b[0;34m\"CANCELLED\"\u001b[0m\u001b[0;34m:\u001b[0m\u001b[0;34m\u001b[0m\u001b[0;34m\u001b[0m\u001b[0m\n\u001b[0;32m---> 74\u001b[0;31m             \u001b[0;32mraise\u001b[0m \u001b[0mH2OJobCancelled\u001b[0m\u001b[0;34m(\u001b[0m\u001b[0;34m\"Job<%s> was cancelled by the user.\"\u001b[0m \u001b[0;34m%\u001b[0m \u001b[0mself\u001b[0m\u001b[0;34m.\u001b[0m\u001b[0mjob_key\u001b[0m\u001b[0;34m)\u001b[0m\u001b[0;34m\u001b[0m\u001b[0;34m\u001b[0m\u001b[0m\n\u001b[0m\u001b[1;32m     75\u001b[0m         \u001b[0;32mif\u001b[0m \u001b[0mself\u001b[0m\u001b[0;34m.\u001b[0m\u001b[0mstatus\u001b[0m \u001b[0;34m==\u001b[0m \u001b[0;34m\"FAILED\"\u001b[0m\u001b[0;34m:\u001b[0m\u001b[0;34m\u001b[0m\u001b[0;34m\u001b[0m\u001b[0m\n\u001b[1;32m     76\u001b[0m             \u001b[0;32mif\u001b[0m \u001b[0;34m(\u001b[0m\u001b[0misinstance\u001b[0m\u001b[0;34m(\u001b[0m\u001b[0mself\u001b[0m\u001b[0;34m.\u001b[0m\u001b[0mjob\u001b[0m\u001b[0;34m,\u001b[0m \u001b[0mdict\u001b[0m\u001b[0;34m)\u001b[0m\u001b[0;34m)\u001b[0m \u001b[0;32mand\u001b[0m \u001b[0;34m(\u001b[0m\u001b[0;34m\"stacktrace\"\u001b[0m \u001b[0;32min\u001b[0m \u001b[0mlist\u001b[0m\u001b[0;34m(\u001b[0m\u001b[0mself\u001b[0m\u001b[0;34m.\u001b[0m\u001b[0mjob\u001b[0m\u001b[0;34m)\u001b[0m\u001b[0;34m)\u001b[0m\u001b[0;34m:\u001b[0m\u001b[0;34m\u001b[0m\u001b[0;34m\u001b[0m\u001b[0m\n",
      "\u001b[0;31mH2OJobCancelled\u001b[0m: Job<$03017f00000132d4ffffffff$_b6fe665b4cf7ff0ef3ffa71baa294925> was cancelled by the user."
     ]
    }
   ],
   "source": [
    "aml2 = H2OAutoML(seed = 1, project_name = \"zillow_prize_2\")\n",
    "aml2.train(y = y, training_frame = data)"
   ]
  },
  {
   "cell_type": "code",
   "execution_count": null,
   "metadata": {},
   "outputs": [],
   "source": [
    "aml2.leaderboard.head()"
   ]
  },
  {
   "cell_type": "code",
   "execution_count": null,
   "metadata": {},
   "outputs": [],
   "source": [
    "pred1 = aml1.predict(test)\n",
    "pred1.head()"
   ]
  },
  {
   "cell_type": "code",
   "execution_count": null,
   "metadata": {},
   "outputs": [],
   "source": [
    "perf1 = aml1.leader.model_performance(test)\n",
    "perf1"
   ]
  },
  {
   "cell_type": "code",
   "execution_count": null,
   "metadata": {},
   "outputs": [],
   "source": [
    "pred2 = aml2.predict(test)\n",
    "pred2.head()"
   ]
  },
  {
   "cell_type": "code",
   "execution_count": null,
   "metadata": {},
   "outputs": [],
   "source": [
    "perf2 = aml2.leader.model_performance(test)\n",
    "perf2"
   ]
  },
  {
   "cell_type": "code",
   "execution_count": null,
   "metadata": {},
   "outputs": [],
   "source": []
  },
  {
   "cell_type": "code",
   "execution_count": null,
   "metadata": {},
   "outputs": [],
   "source": []
  },
  {
   "cell_type": "code",
   "execution_count": null,
   "metadata": {},
   "outputs": [],
   "source": []
  },
  {
   "cell_type": "code",
   "execution_count": null,
   "metadata": {},
   "outputs": [],
   "source": []
  },
  {
   "cell_type": "code",
   "execution_count": null,
   "metadata": {},
   "outputs": [],
   "source": []
  },
  {
   "cell_type": "code",
   "execution_count": null,
   "metadata": {},
   "outputs": [],
   "source": []
  },
  {
   "cell_type": "code",
   "execution_count": null,
   "metadata": {},
   "outputs": [],
   "source": []
  },
  {
   "cell_type": "code",
   "execution_count": null,
   "metadata": {},
   "outputs": [],
   "source": []
  }
 ],
 "metadata": {
  "kernelspec": {
   "display_name": "Python 3",
   "language": "python",
   "name": "python3"
  },
  "language_info": {
   "codemirror_mode": {
    "name": "ipython",
    "version": 3
   },
   "file_extension": ".py",
   "mimetype": "text/x-python",
   "name": "python",
   "nbconvert_exporter": "python",
   "pygments_lexer": "ipython3",
   "version": "3.7.3"
  }
 },
 "nbformat": 4,
 "nbformat_minor": 2
}
